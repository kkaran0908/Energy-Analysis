{
 "cells": [
  {
   "cell_type": "code",
   "execution_count": 10,
   "metadata": {},
   "outputs": [],
   "source": [
    "import pandas as pd\n",
    "import numpy as np\n",
    "import matplotlib.pyplot as plt"
   ]
  },
  {
   "cell_type": "code",
   "execution_count": 2,
   "metadata": {},
   "outputs": [],
   "source": [
    "d1 = pd.read_excel('10FEB_H.xlsx')"
   ]
  },
  {
   "cell_type": "code",
   "execution_count": 7,
   "metadata": {},
   "outputs": [
    {
     "data": {
      "text/html": [
       "<div>\n",
       "<style scoped>\n",
       "    .dataframe tbody tr th:only-of-type {\n",
       "        vertical-align: middle;\n",
       "    }\n",
       "\n",
       "    .dataframe tbody tr th {\n",
       "        vertical-align: top;\n",
       "    }\n",
       "\n",
       "    .dataframe thead th {\n",
       "        text-align: right;\n",
       "    }\n",
       "</style>\n",
       "<table border=\"1\" class=\"dataframe\">\n",
       "  <thead>\n",
       "    <tr style=\"text-align: right;\">\n",
       "      <th></th>\n",
       "      <th>Date</th>\n",
       "      <th>Time</th>\n",
       "      <th>HOSTEL_SUBSTN_LT_EM1_PH1_VOLT.PresentValue</th>\n",
       "      <th>HOSTEL_SUBSTN_LT_EM1_PH2_VOLT.PresentValue</th>\n",
       "      <th>HOSTEL_SUBSTN_LT_EM1_PH3_VOLT.PresentValue</th>\n",
       "      <th>HOSTEL_SUBSTN_LT_EM1_PH1_CUR.PresentValue</th>\n",
       "      <th>HOSTEL_SUBSTN_LT_EM1_PH2_CUR.PresentValue</th>\n",
       "      <th>HOSTEL_SUBSTN_LT_EM1_PH3_CUR.PresentValue</th>\n",
       "      <th>HOSTEL_SUBSTN_LT_EM1_PWR_R.PresentValue</th>\n",
       "      <th>HOSTEL_SUBSTN_LT_EM1_PWR_Y.PresentValue</th>\n",
       "      <th>...</th>\n",
       "      <th>HOSTEL_SUBSTN_LT_EM2_PH2_VOLT.PresentValue</th>\n",
       "      <th>HOSTEL_SUBSTN_LT_EM2_PH3_VOLT.PresentValue</th>\n",
       "      <th>HOSTEL_SUBSTN_LT_EM2_PH1_CUR.PresentValue</th>\n",
       "      <th>HOSTEL_SUBSTN_LT_EM2_PH2_CUR.PresentValue</th>\n",
       "      <th>HOSTEL_SUBSTN_LT_EM2_PH3_CUR.PresentValue</th>\n",
       "      <th>HOSTEL_SUBSTN_LT_EM2_PWR_R.PresentValue</th>\n",
       "      <th>HOSTEL_SUBSTN_LT_EM2_PWR_Y.PresentValue</th>\n",
       "      <th>HOSTEL_SUBSTN_LT_EM2_ACT_PWR_B.PresentValue</th>\n",
       "      <th>HOSTEL_SUBSTN_LT_EM2_ENERGY.PresentValue</th>\n",
       "      <th>HOSTEL_SUBSTN_LT_EM2_PF.PresentValue</th>\n",
       "    </tr>\n",
       "  </thead>\n",
       "  <tbody>\n",
       "    <tr>\n",
       "      <th>0</th>\n",
       "      <td>2020-02-17</td>\n",
       "      <td>10:00:00</td>\n",
       "      <td>241.27</td>\n",
       "      <td>242.73</td>\n",
       "      <td>242.02</td>\n",
       "      <td>43.44</td>\n",
       "      <td>0</td>\n",
       "      <td>0</td>\n",
       "      <td>10.34</td>\n",
       "      <td>5.23</td>\n",
       "      <td>...</td>\n",
       "      <td>240.64</td>\n",
       "      <td>241.66</td>\n",
       "      <td>127.42</td>\n",
       "      <td>116.55</td>\n",
       "      <td>126.5</td>\n",
       "      <td>28.72</td>\n",
       "      <td>25.75</td>\n",
       "      <td>27.04</td>\n",
       "      <td>2641468</td>\n",
       "      <td>0.9</td>\n",
       "    </tr>\n",
       "    <tr>\n",
       "      <th>1</th>\n",
       "      <td>2020-02-17</td>\n",
       "      <td>09:00:00</td>\n",
       "      <td>241.27</td>\n",
       "      <td>242.73</td>\n",
       "      <td>242.02</td>\n",
       "      <td>43.44</td>\n",
       "      <td>0</td>\n",
       "      <td>0</td>\n",
       "      <td>10.34</td>\n",
       "      <td>5.23</td>\n",
       "      <td>...</td>\n",
       "      <td>240.64</td>\n",
       "      <td>241.66</td>\n",
       "      <td>127.42</td>\n",
       "      <td>116.55</td>\n",
       "      <td>126.5</td>\n",
       "      <td>28.72</td>\n",
       "      <td>25.75</td>\n",
       "      <td>27.04</td>\n",
       "      <td>2641468</td>\n",
       "      <td>0.9</td>\n",
       "    </tr>\n",
       "    <tr>\n",
       "      <th>2</th>\n",
       "      <td>2020-02-17</td>\n",
       "      <td>08:00:00</td>\n",
       "      <td>241.27</td>\n",
       "      <td>242.73</td>\n",
       "      <td>242.02</td>\n",
       "      <td>43.44</td>\n",
       "      <td>0</td>\n",
       "      <td>0</td>\n",
       "      <td>10.34</td>\n",
       "      <td>5.23</td>\n",
       "      <td>...</td>\n",
       "      <td>240.64</td>\n",
       "      <td>241.66</td>\n",
       "      <td>127.42</td>\n",
       "      <td>116.55</td>\n",
       "      <td>126.5</td>\n",
       "      <td>28.72</td>\n",
       "      <td>25.75</td>\n",
       "      <td>27.04</td>\n",
       "      <td>2641468</td>\n",
       "      <td>0.9</td>\n",
       "    </tr>\n",
       "    <tr>\n",
       "      <th>3</th>\n",
       "      <td>2020-02-17</td>\n",
       "      <td>07:00:00</td>\n",
       "      <td>241.27</td>\n",
       "      <td>242.73</td>\n",
       "      <td>242.02</td>\n",
       "      <td>43.44</td>\n",
       "      <td>0</td>\n",
       "      <td>0</td>\n",
       "      <td>10.34</td>\n",
       "      <td>5.23</td>\n",
       "      <td>...</td>\n",
       "      <td>240.64</td>\n",
       "      <td>241.66</td>\n",
       "      <td>127.42</td>\n",
       "      <td>116.55</td>\n",
       "      <td>126.5</td>\n",
       "      <td>28.72</td>\n",
       "      <td>25.75</td>\n",
       "      <td>27.04</td>\n",
       "      <td>2641468</td>\n",
       "      <td>0.9</td>\n",
       "    </tr>\n",
       "    <tr>\n",
       "      <th>4</th>\n",
       "      <td>2020-02-17</td>\n",
       "      <td>06:00:00</td>\n",
       "      <td>241.27</td>\n",
       "      <td>242.73</td>\n",
       "      <td>242.02</td>\n",
       "      <td>43.44</td>\n",
       "      <td>0</td>\n",
       "      <td>0</td>\n",
       "      <td>10.34</td>\n",
       "      <td>5.23</td>\n",
       "      <td>...</td>\n",
       "      <td>240.64</td>\n",
       "      <td>241.66</td>\n",
       "      <td>127.42</td>\n",
       "      <td>116.55</td>\n",
       "      <td>126.5</td>\n",
       "      <td>28.72</td>\n",
       "      <td>25.75</td>\n",
       "      <td>27.04</td>\n",
       "      <td>2641468</td>\n",
       "      <td>0.9</td>\n",
       "    </tr>\n",
       "  </tbody>\n",
       "</table>\n",
       "<p>5 rows × 24 columns</p>\n",
       "</div>"
      ],
      "text/plain": [
       "        Date      Time  HOSTEL_SUBSTN_LT_EM1_PH1_VOLT.PresentValue  \\\n",
       "0 2020-02-17  10:00:00                                      241.27   \n",
       "1 2020-02-17  09:00:00                                      241.27   \n",
       "2 2020-02-17  08:00:00                                      241.27   \n",
       "3 2020-02-17  07:00:00                                      241.27   \n",
       "4 2020-02-17  06:00:00                                      241.27   \n",
       "\n",
       "   HOSTEL_SUBSTN_LT_EM1_PH2_VOLT.PresentValue  \\\n",
       "0                                      242.73   \n",
       "1                                      242.73   \n",
       "2                                      242.73   \n",
       "3                                      242.73   \n",
       "4                                      242.73   \n",
       "\n",
       "   HOSTEL_SUBSTN_LT_EM1_PH3_VOLT.PresentValue  \\\n",
       "0                                      242.02   \n",
       "1                                      242.02   \n",
       "2                                      242.02   \n",
       "3                                      242.02   \n",
       "4                                      242.02   \n",
       "\n",
       "   HOSTEL_SUBSTN_LT_EM1_PH1_CUR.PresentValue  \\\n",
       "0                                      43.44   \n",
       "1                                      43.44   \n",
       "2                                      43.44   \n",
       "3                                      43.44   \n",
       "4                                      43.44   \n",
       "\n",
       "   HOSTEL_SUBSTN_LT_EM1_PH2_CUR.PresentValue  \\\n",
       "0                                          0   \n",
       "1                                          0   \n",
       "2                                          0   \n",
       "3                                          0   \n",
       "4                                          0   \n",
       "\n",
       "   HOSTEL_SUBSTN_LT_EM1_PH3_CUR.PresentValue  \\\n",
       "0                                          0   \n",
       "1                                          0   \n",
       "2                                          0   \n",
       "3                                          0   \n",
       "4                                          0   \n",
       "\n",
       "   HOSTEL_SUBSTN_LT_EM1_PWR_R.PresentValue  \\\n",
       "0                                    10.34   \n",
       "1                                    10.34   \n",
       "2                                    10.34   \n",
       "3                                    10.34   \n",
       "4                                    10.34   \n",
       "\n",
       "   HOSTEL_SUBSTN_LT_EM1_PWR_Y.PresentValue  ...  \\\n",
       "0                                     5.23  ...   \n",
       "1                                     5.23  ...   \n",
       "2                                     5.23  ...   \n",
       "3                                     5.23  ...   \n",
       "4                                     5.23  ...   \n",
       "\n",
       "   HOSTEL_SUBSTN_LT_EM2_PH2_VOLT.PresentValue  \\\n",
       "0                                      240.64   \n",
       "1                                      240.64   \n",
       "2                                      240.64   \n",
       "3                                      240.64   \n",
       "4                                      240.64   \n",
       "\n",
       "   HOSTEL_SUBSTN_LT_EM2_PH3_VOLT.PresentValue  \\\n",
       "0                                      241.66   \n",
       "1                                      241.66   \n",
       "2                                      241.66   \n",
       "3                                      241.66   \n",
       "4                                      241.66   \n",
       "\n",
       "   HOSTEL_SUBSTN_LT_EM2_PH1_CUR.PresentValue  \\\n",
       "0                                     127.42   \n",
       "1                                     127.42   \n",
       "2                                     127.42   \n",
       "3                                     127.42   \n",
       "4                                     127.42   \n",
       "\n",
       "   HOSTEL_SUBSTN_LT_EM2_PH2_CUR.PresentValue  \\\n",
       "0                                     116.55   \n",
       "1                                     116.55   \n",
       "2                                     116.55   \n",
       "3                                     116.55   \n",
       "4                                     116.55   \n",
       "\n",
       "   HOSTEL_SUBSTN_LT_EM2_PH3_CUR.PresentValue  \\\n",
       "0                                      126.5   \n",
       "1                                      126.5   \n",
       "2                                      126.5   \n",
       "3                                      126.5   \n",
       "4                                      126.5   \n",
       "\n",
       "   HOSTEL_SUBSTN_LT_EM2_PWR_R.PresentValue  \\\n",
       "0                                    28.72   \n",
       "1                                    28.72   \n",
       "2                                    28.72   \n",
       "3                                    28.72   \n",
       "4                                    28.72   \n",
       "\n",
       "   HOSTEL_SUBSTN_LT_EM2_PWR_Y.PresentValue  \\\n",
       "0                                    25.75   \n",
       "1                                    25.75   \n",
       "2                                    25.75   \n",
       "3                                    25.75   \n",
       "4                                    25.75   \n",
       "\n",
       "   HOSTEL_SUBSTN_LT_EM2_ACT_PWR_B.PresentValue  \\\n",
       "0                                        27.04   \n",
       "1                                        27.04   \n",
       "2                                        27.04   \n",
       "3                                        27.04   \n",
       "4                                        27.04   \n",
       "\n",
       "   HOSTEL_SUBSTN_LT_EM2_ENERGY.PresentValue  \\\n",
       "0                                   2641468   \n",
       "1                                   2641468   \n",
       "2                                   2641468   \n",
       "3                                   2641468   \n",
       "4                                   2641468   \n",
       "\n",
       "   HOSTEL_SUBSTN_LT_EM2_PF.PresentValue  \n",
       "0                                   0.9  \n",
       "1                                   0.9  \n",
       "2                                   0.9  \n",
       "3                                   0.9  \n",
       "4                                   0.9  \n",
       "\n",
       "[5 rows x 24 columns]"
      ]
     },
     "execution_count": 7,
     "metadata": {},
     "output_type": "execute_result"
    }
   ],
   "source": [
    "d1.head()"
   ]
  },
  {
   "cell_type": "code",
   "execution_count": 22,
   "metadata": {},
   "outputs": [
    {
     "data": {
      "text/plain": [
       "[]"
      ]
     },
     "execution_count": 22,
     "metadata": {},
     "output_type": "execute_result"
    },
    {
     "data": {
      "image/png": "[encoded data removed]",
      "text/plain": [
       "<Figure size 432x288 with 1 Axes>"
      ]
     },
     "metadata": {
      "needs_background": "light"
     },
     "output_type": "display_data"
    }
   ],
   "source": [
    "d1['HOSTEL_SUBSTN_LT_EM1_PH1_VOLT.PresentValue'].plot()\n",
    "d1['HOSTEL_SUBSTN_LT_EM1_PH2_VOLT.PresentValue'].plot()\n",
    "d1['HOSTEL_SUBSTN_LT_EM1_PH3_VOLT.PresentValue'].plot()\n",
    "plt.title(\"Present Value of Voltage in Each Phase\")\n",
    "plt.legend([\"Phase1\",\"Phase2\",\"Phase3\"])\n",
    "plt.ylabel(\"Voltage\",size = 13)\n",
    "plt.xlabel(\"Time\")\n",
    "plt.plot()"
   ]
  },
  {
   "cell_type": "code",
   "execution_count": 26,
   "metadata": {},
   "outputs": [
    {
     "data": {
      "text/plain": [
       "[]"
      ]
     },
     "execution_count": 26,
     "metadata": {},
     "output_type": "execute_result"
    },
    {
     "data": {
      "image/png": "[encoded data removed]",
      "text/plain": [
       "<Figure size 432x288 with 1 Axes>"
      ]
     },
     "metadata": {
      "needs_background": "light"
     },
     "output_type": "display_data"
    }
   ],
   "source": [
    "d1['HOSTEL_SUBSTN_LT_EM1_PH1_CUR.PresentValue'].plot()\n",
    "d1['HOSTEL_SUBSTN_LT_EM1_PH2_CUR.PresentValue'].plot()  #curent in the phase 2 is 0, but voltage is not zero one of the reason might be the reading problem\n",
    "d1['HOSTEL_SUBSTN_LT_EM1_PH3_CUR.PresentValue'].plot()\n",
    "plt.title(\"Present Value of Current in Each Phase\")\n",
    "plt.legend([\"Phase1\",\"Phase2\",\"Phase3\"])\n",
    "plt.ylabel(\"Voltage\",size = 13)\n",
    "plt.xlabel(\"Time\")\n",
    "plt.plot()"
   ]
  },
  {
   "cell_type": "code",
   "execution_count": 25,
   "metadata": {},
   "outputs": [
    {
     "data": {
      "text/plain": [
       "array([0, 0, 0, 0, 0, 0, 0, 0, 0, 0, 0, 0, 0, 0, 0, 0, 0, 0, 0, 0, 0, 0,\n",
       "       0, 0, 0, 0, 0, 0, 0, 0, 0, 0, 0, 0, 0, 0, 0, 0, 0, 0, 0, 0, 0, 0,\n",
       "       0, 0, 0, 0, 0, 0, 0, 0, 0, 0, 0, 0, 0, 0, 0, 0, 0, 0, 0, 0, 0, 0,\n",
       "       0, 0, 0, 0, 0, 0, 0, 0, 0, 0, 0, 0, 0, 0, 0, 0, 0, 0, 0, 0, 0, 0,\n",
       "       0, 0, 0, 0, 0, 0, 0, 0, 0, 0, 0, 0, 0, 0, 0, 0, 0, 0, 0, 0, 0, 0,\n",
       "       0, 0, 0, 0, 0, 0, 0, 0, 0, 0, 0, 0, 0, 0, 0, 0, 0, 0, 0, 0, 0, 0,\n",
       "       0, 0, 0, 0, 0, 0, 0, 0, 0, 0, 0, 0, 0, 0, 0, 0, 0, 0, 0, 0, 0, 0,\n",
       "       0, 0, 0, 0, 0, 0, 0, 0, 0, 0, 0, 0, 0, 0], dtype=int64)"
      ]
     },
     "execution_count": 25,
     "metadata": {},
     "output_type": "execute_result"
    }
   ],
   "source": [
    "d1['HOSTEL_SUBSTN_LT_EM1_PH2_CUR.PresentValue'].values ##current in the phase 2 is always o for entire week"
   ]
  },
  {
   "cell_type": "code",
   "execution_count": 36,
   "metadata": {},
   "outputs": [
    {
     "data": {
      "text/plain": [
       "[]"
      ]
     },
     "execution_count": 36,
     "metadata": {},
     "output_type": "execute_result"
    },
    {
     "data": {
      "image/png": "[encoded data removed]",
      "text/plain": [
       "<Figure size 432x288 with 1 Axes>"
      ]
     },
     "metadata": {
      "needs_background": "light"
     },
     "output_type": "display_data"
    }
   ],
   "source": [
    "d1['HOSTEL_SUBSTN_LT_EM1_PWR_R.PresentValue'].plot()\n",
    "d1['HOSTEL_SUBSTN_LT_EM1_PWR_Y.PresentValue'].plot()\n",
    "d1['HOSTEL_SUBSTN_LT_EM1_ACT_PWR_B.PresentValue'].plot()\n",
    "plt.title(\"Power in Each Phase\")\n",
    "plt.legend([\"Phase1\",\"Phase2\",\"Phase3\"])\n",
    "plt.ylabel(\"Voltage\",size = 13)\n",
    "plt.xlabel(\"Time\")\n",
    "plt.plot()"
   ]
  },
  {
   "cell_type": "code",
   "execution_count": 32,
   "metadata": {},
   "outputs": [
    {
     "data": {
      "text/plain": [
       "array([5.23, 5.23, 5.23, 5.23, 5.23, 5.23, 5.23, 5.23, 5.23, 5.23, 5.23,\n",
       "       5.23, 5.23, 5.23, 5.23, 5.23, 5.23, 5.23, 5.23, 5.23, 5.23, 5.23,\n",
       "       5.23, 5.23, 5.23, 5.23, 5.23, 5.23, 5.23, 5.23, 5.23, 5.23, 5.23,\n",
       "       5.23, 5.23, 5.23, 5.23, 5.23, 5.23, 5.23, 5.23, 5.23, 5.23, 5.23,\n",
       "       5.23, 5.23, 5.23, 5.23, 5.23, 5.23, 5.23, 5.23, 5.23, 5.23, 5.23,\n",
       "       5.23, 5.23, 5.23, 5.23, 5.23, 5.23, 5.23, 5.23, 5.23, 5.23, 5.23,\n",
       "       5.23, 5.23, 5.23, 5.23, 5.23, 5.23, 5.23, 5.23, 5.23, 5.23, 5.23,\n",
       "       5.23, 5.23, 5.23, 5.23, 5.23, 5.23, 5.23, 5.23, 5.23, 5.23, 5.23,\n",
       "       5.23, 5.23, 5.23, 5.23, 5.23, 5.23, 5.23, 5.23, 5.23, 5.23, 5.23,\n",
       "       5.23, 5.23, 5.23, 5.23, 5.23, 5.23, 5.23, 5.23, 5.23, 5.23, 5.23,\n",
       "       5.23, 5.23, 5.23, 5.23, 5.23, 5.23, 5.23, 5.23, 5.23, 5.23, 5.23,\n",
       "       5.23, 5.23, 5.23, 5.23, 5.23, 5.23, 5.23, 5.23, 5.23, 5.23, 5.23,\n",
       "       5.23, 5.23, 5.23, 5.23, 5.23, 5.23, 5.23, 5.23, 5.23, 5.23, 5.23,\n",
       "       5.23, 5.23, 5.23, 5.23, 5.23, 5.23, 5.23, 5.23, 5.23, 5.23, 5.23,\n",
       "       5.23, 5.23, 5.23, 5.23, 5.23, 5.23, 5.23, 5.23, 5.23, 5.23, 5.23,\n",
       "       5.23, 5.23, 5.23])"
      ]
     },
     "execution_count": 32,
     "metadata": {},
     "output_type": "execute_result"
    }
   ],
   "source": [
    "d1['HOSTEL_SUBSTN_LT_EM1_PWR_Y.PresentValue'].values"
   ]
  },
  {
   "cell_type": "code",
   "execution_count": 38,
   "metadata": {},
   "outputs": [
    {
     "data": {
      "text/plain": [
       "Index(['Date', 'Time', 'HOSTEL_SUBSTN_LT_EM1_PH1_VOLT.PresentValue',\n",
       "       'HOSTEL_SUBSTN_LT_EM1_PH2_VOLT.PresentValue',\n",
       "       'HOSTEL_SUBSTN_LT_EM1_PH3_VOLT.PresentValue',\n",
       "       'HOSTEL_SUBSTN_LT_EM1_PH1_CUR.PresentValue',\n",
       "       'HOSTEL_SUBSTN_LT_EM1_PH2_CUR.PresentValue',\n",
       "       'HOSTEL_SUBSTN_LT_EM1_PH3_CUR.PresentValue',\n",
       "       'HOSTEL_SUBSTN_LT_EM1_PWR_R.PresentValue',\n",
       "       'HOSTEL_SUBSTN_LT_EM1_PWR_Y.PresentValue',\n",
       "       'HOSTEL_SUBSTN_LT_EM1_ACT_PWR_B.PresentValue',\n",
       "       'HOSTEL_SUBSTN_LT_EM1_ENERGY.PresentValue',\n",
       "       'HOSTEL_SUBSTN_LT_EM1_PF.PresentValue',\n",
       "       'HOSTEL_SUBSTN_LT_EM2_PH1_VOLT.PresentValue',\n",
       "       'HOSTEL_SUBSTN_LT_EM2_PH2_VOLT.PresentValue',\n",
       "       'HOSTEL_SUBSTN_LT_EM2_PH3_VOLT.PresentValue',\n",
       "       'HOSTEL_SUBSTN_LT_EM2_PH1_CUR.PresentValue',\n",
       "       'HOSTEL_SUBSTN_LT_EM2_PH2_CUR.PresentValue',\n",
       "       'HOSTEL_SUBSTN_LT_EM2_PH3_CUR.PresentValue',\n",
       "       'HOSTEL_SUBSTN_LT_EM2_PWR_R.PresentValue',\n",
       "       'HOSTEL_SUBSTN_LT_EM2_PWR_Y.PresentValue',\n",
       "       'HOSTEL_SUBSTN_LT_EM2_ACT_PWR_B.PresentValue',\n",
       "       'HOSTEL_SUBSTN_LT_EM2_ENERGY.PresentValue',\n",
       "       'HOSTEL_SUBSTN_LT_EM2_PF.PresentValue'],\n",
       "      dtype='object')"
      ]
     },
     "execution_count": 38,
     "metadata": {},
     "output_type": "execute_result"
    }
   ],
   "source": [
    "d1.columns"
   ]
  },
  {
   "cell_type": "code",
   "execution_count": 39,
   "metadata": {},
   "outputs": [
    {
     "data": {
      "text/plain": [
       "[]"
      ]
     },
     "execution_count": 39,
     "metadata": {},
     "output_type": "execute_result"
    },
    {
     "data": {
      "image/png": "[encoded data removed]",
      "text/plain": [
       "<Figure size 432x288 with 1 Axes>"
      ]
     },
     "metadata": {
      "needs_background": "light"
     },
     "output_type": "display_data"
    }
   ],
   "source": [
    "d1['HOSTEL_SUBSTN_LT_EM1_ENERGY.PresentValue'].plot()\n",
    "d1['HOSTEL_SUBSTN_LT_EM1_PWR_Y.PresentValue'].plot()\n",
    "d1['HOSTEL_SUBSTN_LT_EM1_ACT_PWR_B.PresentValue'].plot()\n",
    "plt.title(\"Power in Each Phase\")\n",
    "plt.legend([\"Phase1\",\"Phase2\",\"Phase3\"])\n",
    "plt.ylabel(\"Voltage\",size = 13)\n",
    "plt.xlabel(\"Time\")\n",
    "plt.plot()"
   ]
  },
  {
   "cell_type": "code",
   "execution_count": 42,
   "metadata": {},
   "outputs": [
    {
     "data": {
      "text/plain": [
       "Index(['Date', 'Time', 'HOSTEL_SUBSTN_LT_EM1_PH1_VOLT.PresentValue',\n",
       "       'HOSTEL_SUBSTN_LT_EM1_PH2_VOLT.PresentValue',\n",
       "       'HOSTEL_SUBSTN_LT_EM1_PH3_VOLT.PresentValue',\n",
       "       'HOSTEL_SUBSTN_LT_EM1_PH1_CUR.PresentValue',\n",
       "       'HOSTEL_SUBSTN_LT_EM1_PH2_CUR.PresentValue',\n",
       "       'HOSTEL_SUBSTN_LT_EM1_PH3_CUR.PresentValue',\n",
       "       'HOSTEL_SUBSTN_LT_EM1_PWR_R.PresentValue',\n",
       "       'HOSTEL_SUBSTN_LT_EM1_PWR_Y.PresentValue',\n",
       "       'HOSTEL_SUBSTN_LT_EM1_ACT_PWR_B.PresentValue',\n",
       "       'HOSTEL_SUBSTN_LT_EM1_ENERGY.PresentValue',\n",
       "       'HOSTEL_SUBSTN_LT_EM1_PF.PresentValue',\n",
       "       'HOSTEL_SUBSTN_LT_EM2_PH1_VOLT.PresentValue',\n",
       "       'HOSTEL_SUBSTN_LT_EM2_PH2_VOLT.PresentValue',\n",
       "       'HOSTEL_SUBSTN_LT_EM2_PH3_VOLT.PresentValue',\n",
       "       'HOSTEL_SUBSTN_LT_EM2_PH1_CUR.PresentValue',\n",
       "       'HOSTEL_SUBSTN_LT_EM2_PH2_CUR.PresentValue',\n",
       "       'HOSTEL_SUBSTN_LT_EM2_PH3_CUR.PresentValue',\n",
       "       'HOSTEL_SUBSTN_LT_EM2_PWR_R.PresentValue',\n",
       "       'HOSTEL_SUBSTN_LT_EM2_PWR_Y.PresentValue',\n",
       "       'HOSTEL_SUBSTN_LT_EM2_ACT_PWR_B.PresentValue',\n",
       "       'HOSTEL_SUBSTN_LT_EM2_ENERGY.PresentValue',\n",
       "       'HOSTEL_SUBSTN_LT_EM2_PF.PresentValue'],\n",
       "      dtype='object')"
      ]
     },
     "execution_count": 42,
     "metadata": {},
     "output_type": "execute_result"
    }
   ],
   "source": [
    "d1.columns"
   ]
  },
  {
   "cell_type": "code",
   "execution_count": 43,
   "metadata": {},
   "outputs": [
    {
     "data": {
      "text/plain": [
       "HOSTEL_SUBSTN_LT_EM1_PH1_VOLT.PresentValue     0.000000e+00\n",
       "HOSTEL_SUBSTN_LT_EM1_PH2_VOLT.PresentValue     0.000000e+00\n",
       "HOSTEL_SUBSTN_LT_EM1_PH3_VOLT.PresentValue     0.000000e+00\n",
       "HOSTEL_SUBSTN_LT_EM1_PH1_CUR.PresentValue      0.000000e+00\n",
       "HOSTEL_SUBSTN_LT_EM1_PH2_CUR.PresentValue      0.000000e+00\n",
       "HOSTEL_SUBSTN_LT_EM1_PH3_CUR.PresentValue      0.000000e+00\n",
       "HOSTEL_SUBSTN_LT_EM1_PWR_R.PresentValue        1.781667e-15\n",
       "HOSTEL_SUBSTN_LT_EM1_PWR_Y.PresentValue        8.908337e-16\n",
       "HOSTEL_SUBSTN_LT_EM1_ACT_PWR_B.PresentValue    5.838168e-11\n",
       "HOSTEL_SUBSTN_LT_EM1_ENERGY.PresentValue       0.000000e+00\n",
       "HOSTEL_SUBSTN_LT_EM1_PF.PresentValue           0.000000e+00\n",
       "HOSTEL_SUBSTN_LT_EM2_PH1_VOLT.PresentValue     2.850668e-14\n",
       "HOSTEL_SUBSTN_LT_EM2_PH2_VOLT.PresentValue     5.701335e-14\n",
       "HOSTEL_SUBSTN_LT_EM2_PH3_VOLT.PresentValue     0.000000e+00\n",
       "HOSTEL_SUBSTN_LT_EM2_PH1_CUR.PresentValue      0.000000e+00\n",
       "HOSTEL_SUBSTN_LT_EM2_PH2_CUR.PresentValue      2.850668e-14\n",
       "HOSTEL_SUBSTN_LT_EM2_PH3_CUR.PresentValue      0.000000e+00\n",
       "HOSTEL_SUBSTN_LT_EM2_PWR_R.PresentValue        7.126669e-15\n",
       "HOSTEL_SUBSTN_LT_EM2_PWR_Y.PresentValue        0.000000e+00\n",
       "HOSTEL_SUBSTN_LT_EM2_ACT_PWR_B.PresentValue    3.563335e-15\n",
       "HOSTEL_SUBSTN_LT_EM2_ENERGY.PresentValue       0.000000e+00\n",
       "HOSTEL_SUBSTN_LT_EM2_PF.PresentValue           2.227084e-16\n",
       "dtype: float64"
      ]
     },
     "execution_count": 43,
     "metadata": {},
     "output_type": "execute_result"
    }
   ],
   "source": [
    "d1.std()"
   ]
  },
  {
   "cell_type": "markdown",
   "metadata": {},
   "source": [
    "#### we can see that standard deviation in all the columns is almost equal to zero, so we can not perform much analysis over it."
   ]
  },
  {
   "cell_type": "code",
   "execution_count": null,
   "metadata": {},
   "outputs": [],
   "source": []
  }
 ],
 "metadata": {
  "kernelspec": {
   "display_name": "Python 3",
   "language": "python",
   "name": "python3"
  },
  "language_info": {
   "codemirror_mode": {
    "name": "ipython",
    "version": 3
   },
   "file_extension": ".py",
   "mimetype": "text/x-python",
   "name": "python",
   "nbconvert_exporter": "python",
   "pygments_lexer": "ipython3",
   "version": "3.6.1"
  }
 },
 "nbformat": 4,
 "nbformat_minor": 2
}
