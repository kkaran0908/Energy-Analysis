{
 "cells": [
  {
   "cell_type": "code",
   "execution_count": 30,
   "metadata": {},
   "outputs": [],
   "source": [
    "import numpy as np\n",
    "import csv\n",
    "import matplotlib.pyplot as plt\n",
    "import pandas as pd"
   ]
  },
  {
   "cell_type": "code",
   "execution_count": 128,
   "metadata": {},
   "outputs": [],
   "source": [
    "def load_data(dataset_path, sequence_length=60, prediction_steps=5, ratio_of_data=1.0):\n",
    "    max_values = ratio_of_data * 2075259  # 2075259 is the total number of measurements from Dec 2006 to Nov 2010\n",
    "\n",
    "    # Load data from file\n",
    "    with open(dataset_path) as file:\n",
    "        data_file = csv.reader(file, delimiter=\";\")\n",
    "        power_consumption = []\n",
    "        number_of_values = 0\n",
    "        for line in data_file:\n",
    "            try:\n",
    "                power_consumption.append(float(line[2]))\n",
    "                number_of_values += 1\n",
    "            except ValueError:\n",
    "                pass\n",
    "            if number_of_values >= max_values:  # limit data to be considered by model according to max_values\n",
    "                break\n",
    "\n",
    "    print('Loaded data from csv.')\n",
    "    windowed_data = []\n",
    "    # Format data into rolling window sequences\n",
    "    for index in range(len(power_consumption) - sequence_length):  # for e.g: index=0 => 123, index=1 => 234 etc.\n",
    "        windowed_data.append(power_consumption[index: index + sequence_length])\n",
    "    windowed_data = np.array(windowed_data)  # shape (number of samples, sequence length)\n",
    "\n",
    "    # Center data\n",
    "    data_mean = windowed_data.mean()\n",
    "    windowed_data -= data_mean\n",
    "    print('Center data so mean is zero (subtract each data point by mean of value: ', data_mean, ')')\n",
    "    print('Data  : ', windowed_data.shape)\n",
    "\n",
    "    # Split data into training and testing sets\n",
    "    train_set_ratio = 0.9\n",
    "    row = int(round(train_set_ratio * windowed_data.shape[0]))\n",
    "    train = windowed_data[:row, :]\n",
    "    x_train = train[:, :-prediction_steps]  # remove last prediction_steps from train set\n",
    "    y_train = train[:, -prediction_steps:]  # take last prediction_steps from train set\n",
    "    x_test = windowed_data[row:, :-prediction_steps]\n",
    "    y_test = windowed_data[row:, -prediction_steps:]  # take last prediction_steps from test set\n",
    "\n",
    "    x_train = np.reshape(x_train, (x_train.shape[0], x_train.shape[1], 1))\n",
    "    x_test = np.reshape(x_test, (x_test.shape[0], x_test.shape[1], 1))\n",
    "\n",
    "    return [x_train, y_train, x_test, y_test, data_mean]"
   ]
  },
  {
   "cell_type": "code",
   "execution_count": 131,
   "metadata": {},
   "outputs": [],
   "source": [
    "max_values =  2075259\n",
    "with open(dataset_path) as file:\n",
    "        data_file = csv.reader(file, delimiter=\";\")\n",
    "        power_consumption = []\n",
    "        number_of_values = 0\n",
    "        for line in data_file:\n",
    "            try:\n",
    "                power_consumption.append(float(line[2]))\n",
    "                number_of_values += 1\n",
    "            except ValueError:\n",
    "                pass\n",
    "            if number_of_values >= max_values:  # limit data to be considered by model according to max_values\n",
    "                break"
   ]
  },
  {
   "cell_type": "code",
   "execution_count": 22,
   "metadata": {},
   "outputs": [
    {
     "data": {
      "text/plain": [
       "[<matplotlib.lines.Line2D at 0x224869fdf60>]"
      ]
     },
     "execution_count": 22,
     "metadata": {},
     "output_type": "execute_result"
    },
    {
     "data": {
      "image/png": "[encoded data removed]",
      "text/plain": [
       "<Figure size 432x288 with 1 Axes>"
      ]
     },
     "metadata": {
      "needs_background": "light"
     },
     "output_type": "display_data"
    }
   ],
   "source": [
    "plt.plot(power_consumption)"
   ]
  },
  {
   "cell_type": "code",
   "execution_count": 23,
   "metadata": {},
   "outputs": [
    {
     "data": {
      "text/plain": [
       "2049280"
      ]
     },
     "execution_count": 23,
     "metadata": {},
     "output_type": "execute_result"
    }
   ],
   "source": [
    "len(power_consumption)"
   ]
  },
  {
   "cell_type": "code",
   "execution_count": 24,
   "metadata": {},
   "outputs": [],
   "source": [
    "dataset_path = 'data/household_power_consumption.txt'"
   ]
  },
  {
   "cell_type": "code",
   "execution_count": 25,
   "metadata": {},
   "outputs": [
    {
     "name": "stdout",
     "output_type": "stream",
     "text": [
      "Loaded data from csv.\n",
      "Center data so mean is zero (subtract each data point by mean of value:  1.0915705613030047 )\n",
      "Data  :  (2049220, 60)\n"
     ]
    }
   ],
   "source": [
    "x_train, y_train,x_test,y_test,data_mean = load_data(dataset_path, sequence_length=60, prediction_steps=5, ratio_of_data=1.0)"
   ]
  },
  {
   "cell_type": "code",
   "execution_count": 26,
   "metadata": {},
   "outputs": [
    {
     "name": "stderr",
     "output_type": "stream",
     "text": [
      "Using TensorFlow backend.\n",
      "C:\\Users\\karan\\AppData\\Local\\Programs\\Python\\Python36\\lib\\site-packages\\tensorflow\\python\\framework\\dtypes.py:516: FutureWarning: Passing (type, 1) or '1type' as a synonym of type is deprecated; in a future version of numpy, it will be understood as (type, (1,)) / '(1,)type'.\n",
      "  _np_qint8 = np.dtype([(\"qint8\", np.int8, 1)])\n",
      "C:\\Users\\karan\\AppData\\Local\\Programs\\Python\\Python36\\lib\\site-packages\\tensorflow\\python\\framework\\dtypes.py:517: FutureWarning: Passing (type, 1) or '1type' as a synonym of type is deprecated; in a future version of numpy, it will be understood as (type, (1,)) / '(1,)type'.\n",
      "  _np_quint8 = np.dtype([(\"quint8\", np.uint8, 1)])\n",
      "C:\\Users\\karan\\AppData\\Local\\Programs\\Python\\Python36\\lib\\site-packages\\tensorflow\\python\\framework\\dtypes.py:518: FutureWarning: Passing (type, 1) or '1type' as a synonym of type is deprecated; in a future version of numpy, it will be understood as (type, (1,)) / '(1,)type'.\n",
      "  _np_qint16 = np.dtype([(\"qint16\", np.int16, 1)])\n",
      "C:\\Users\\karan\\AppData\\Local\\Programs\\Python\\Python36\\lib\\site-packages\\tensorflow\\python\\framework\\dtypes.py:519: FutureWarning: Passing (type, 1) or '1type' as a synonym of type is deprecated; in a future version of numpy, it will be understood as (type, (1,)) / '(1,)type'.\n",
      "  _np_quint16 = np.dtype([(\"quint16\", np.uint16, 1)])\n",
      "C:\\Users\\karan\\AppData\\Local\\Programs\\Python\\Python36\\lib\\site-packages\\tensorflow\\python\\framework\\dtypes.py:520: FutureWarning: Passing (type, 1) or '1type' as a synonym of type is deprecated; in a future version of numpy, it will be understood as (type, (1,)) / '(1,)type'.\n",
      "  _np_qint32 = np.dtype([(\"qint32\", np.int32, 1)])\n",
      "C:\\Users\\karan\\AppData\\Local\\Programs\\Python\\Python36\\lib\\site-packages\\tensorflow\\python\\framework\\dtypes.py:525: FutureWarning: Passing (type, 1) or '1type' as a synonym of type is deprecated; in a future version of numpy, it will be understood as (type, (1,)) / '(1,)type'.\n",
      "  np_resource = np.dtype([(\"resource\", np.ubyte, 1)])\n",
      "C:\\Users\\karan\\AppData\\Local\\Programs\\Python\\Python36\\lib\\site-packages\\tensorboard\\compat\\tensorflow_stub\\dtypes.py:541: FutureWarning: Passing (type, 1) or '1type' as a synonym of type is deprecated; in a future version of numpy, it will be understood as (type, (1,)) / '(1,)type'.\n",
      "  _np_qint8 = np.dtype([(\"qint8\", np.int8, 1)])\n",
      "C:\\Users\\karan\\AppData\\Local\\Programs\\Python\\Python36\\lib\\site-packages\\tensorboard\\compat\\tensorflow_stub\\dtypes.py:542: FutureWarning: Passing (type, 1) or '1type' as a synonym of type is deprecated; in a future version of numpy, it will be understood as (type, (1,)) / '(1,)type'.\n",
      "  _np_quint8 = np.dtype([(\"quint8\", np.uint8, 1)])\n",
      "C:\\Users\\karan\\AppData\\Local\\Programs\\Python\\Python36\\lib\\site-packages\\tensorboard\\compat\\tensorflow_stub\\dtypes.py:543: FutureWarning: Passing (type, 1) or '1type' as a synonym of type is deprecated; in a future version of numpy, it will be understood as (type, (1,)) / '(1,)type'.\n",
      "  _np_qint16 = np.dtype([(\"qint16\", np.int16, 1)])\n",
      "C:\\Users\\karan\\AppData\\Local\\Programs\\Python\\Python36\\lib\\site-packages\\tensorboard\\compat\\tensorflow_stub\\dtypes.py:544: FutureWarning: Passing (type, 1) or '1type' as a synonym of type is deprecated; in a future version of numpy, it will be understood as (type, (1,)) / '(1,)type'.\n",
      "  _np_quint16 = np.dtype([(\"quint16\", np.uint16, 1)])\n",
      "C:\\Users\\karan\\AppData\\Local\\Programs\\Python\\Python36\\lib\\site-packages\\tensorboard\\compat\\tensorflow_stub\\dtypes.py:545: FutureWarning: Passing (type, 1) or '1type' as a synonym of type is deprecated; in a future version of numpy, it will be understood as (type, (1,)) / '(1,)type'.\n",
      "  _np_qint32 = np.dtype([(\"qint32\", np.int32, 1)])\n",
      "C:\\Users\\karan\\AppData\\Local\\Programs\\Python\\Python36\\lib\\site-packages\\tensorboard\\compat\\tensorflow_stub\\dtypes.py:550: FutureWarning: Passing (type, 1) or '1type' as a synonym of type is deprecated; in a future version of numpy, it will be understood as (type, (1,)) / '(1,)type'.\n",
      "  np_resource = np.dtype([(\"resource\", np.ubyte, 1)])\n"
     ]
    }
   ],
   "source": [
    "import time\n",
    "from keras.layers.recurrent import LSTM\n",
    "from keras.layers.core import Activation, Dense, Dropout\n",
    "from keras.models import Sequential, load_model\n",
    "from data import load_data\n",
    "from numpy.random import seed\n",
    "seed(1234)  # seed random numbers for Keras\n",
    "from tensorflow import set_random_seed\n",
    "set_random_seed(2)  # seed random numbers for Tensorflow backend\n",
    "from plot import plot_predictions\n",
    "\n",
    "\n",
    "def build_model(prediction_steps):\n",
    "    model = Sequential()\n",
    "    layers = [1, 75, 100, prediction_steps]\n",
    "    model.add(LSTM(layers[1], input_shape=(None, layers[0]), return_sequences=True))  # add first layer\n",
    "    model.add(Dropout(0.2))  # add dropout for first layer\n",
    "    model.add(LSTM(layers[2], return_sequences=False))  # add second layer\n",
    "    model.add(Dropout(0.2))  # add dropout for second layer\n",
    "    model.add(Dense(layers[3]))  # add output layer\n",
    "    model.add(Activation('linear'))  # output layer with linear activation\n",
    "    start = time.time()\n",
    "    model.compile(loss=\"mse\", optimizer=\"rmsprop\")\n",
    "    print('Compilation Time : ', time.time() - start)\n",
    "    return model\n",
    "\n",
    "\n",
    "def run_lstm(model, sequence_length, prediction_steps):\n",
    "    data = None\n",
    "    global_start_time = time.time()\n",
    "    epochs = 1\n",
    "    ratio_of_data = 1  # ratio of data to use from 2+ million data points\n",
    "    path_to_dataset = 'data/household_power_consumption.txt'\n",
    "\n",
    "    if data is None:\n",
    "        print('Loading data... ')\n",
    "        x_train, y_train, x_test, y_test, result_mean = load_data(path_to_dataset, sequence_length,\n",
    "                                                                  prediction_steps, ratio_of_data)\n",
    "    else:\n",
    "        x_train, y_train, x_test, y_test = data\n",
    "\n",
    "    print('\\nData Loaded. Compiling...\\n')\n",
    "\n",
    "    if model is None:\n",
    "        model = build_model(prediction_steps)\n",
    "        try:\n",
    "            model.fit(x_train, y_train, batch_size=128, epochs=epochs, validation_split=0.05)\n",
    "            predicted = model.predict(x_test)\n",
    "            # predicted = np.reshape(predicted, (predicted.size,))\n",
    "            model.save('LSTM_power_consumption_model.h5')  # save LSTM model\n",
    "        except KeyboardInterrupt:  # save model if training interrupted by user\n",
    "            print('Duration of training (s) : ', time.time() - global_start_time)\n",
    "            model.save('LSTM_power_consumption_model.h5')\n",
    "            return model, y_test, 0\n",
    "    else:  # previously trained mode is given\n",
    "        print('Loading model...')\n",
    "        predicted = model.predict(x_test)\n",
    "    plot_predictions(result_mean, prediction_steps, predicted, y_test, global_start_time)\n",
    "\n",
    "    return None"
   ]
  },
  {
   "cell_type": "code",
   "execution_count": 27,
   "metadata": {},
   "outputs": [
    {
     "name": "stdout",
     "output_type": "stream",
     "text": [
      "WARNING:tensorflow:From D:\\my thesis\\lstm-electric-load-forecast-master\\lstm-electric-load-forecast-master\\lstm.py:8: The name tf.set_random_seed is deprecated. Please use tf.compat.v1.set_random_seed instead.\n",
      "\n",
      "Loading data... \n",
      "Loaded data from csv.\n",
      "Center data so mean is zero (subtract each data point by mean of value:  1.091607820345784 )\n",
      "Data  :  (2049270, 10)\n",
      "\n",
      "Data Loaded. Compiling...\n",
      "\n",
      "Compilation Time :  0.01795172691345215\n",
      "WARNING:tensorflow:From C:\\Users\\karan\\AppData\\Local\\Programs\\Python\\Python36\\lib\\site-packages\\keras\\backend\\tensorflow_backend.py:422: The name tf.global_variables is deprecated. Please use tf.compat.v1.global_variables instead.\n",
      "\n",
      "Train on 1752125 samples, validate on 92218 samples\n",
      "Epoch 1/1\n",
      "1752125/1752125 [==============================] - 137s 78us/step - loss: 0.1915 - val_loss: 0.1547\n",
      "Plotting predictions...\n"
     ]
    },
    {
     "data": {
      "image/png": "[encoded data removed]",
      "text/plain": [
       "<Figure size 432x288 with 1 Axes>"
      ]
     },
     "metadata": {
      "needs_background": "light"
     },
     "output_type": "display_data"
    },
    {
     "name": "stdout",
     "output_type": "stream",
     "text": [
      "Duration of training (s) :  156.01106095314026\n"
     ]
    }
   ],
   "source": [
    "from keras.models import load_model\n",
    "from lstm import run_lstm\n",
    "\n",
    "if __name__ == '__main__':\n",
    "    loading_model = False\n",
    "    if loading_model:\n",
    "        model = load_model('LSTM_power_consumption_model.h5')\n",
    "    else:\n",
    "        model = None\n",
    "    sequence_length = 10  # number of past minutes of data for model to consider\n",
    "    prediction_steps = 5  # number of future minutes of data for model to predict\n",
    "    run_lstm(model, sequence_length, prediction_steps)\n"
   ]
  },
  {
   "cell_type": "markdown",
   "metadata": {},
   "source": [
    "### Applying Same Model for solar Energy Forecasting"
   ]
  },
  {
   "cell_type": "code",
   "execution_count": 85,
   "metadata": {},
   "outputs": [],
   "source": [
    "j = pd.read_csv('solar_data/JULY_B_2018.csv')\n",
    "a = pd.read_csv('solar_data/AUG_B_2018.csv')\n",
    "s = pd.read_csv('solar_data/SEP_B_2018.csv')\n",
    "o = pd.read_csv('solar_data/OCT_B_2018.csv')\n",
    "n = pd.read_csv('solar_data/NOV_B_2018.csv')\n",
    "d = pd.read_csv('solar_data/DEC_B_2018.csv')\n",
    "jan = pd.read_csv('solar_data/JAN_B_2019.csv')\n",
    "fab = pd.read_csv('solar_data/FAB_B_2019.csv')\n",
    "m = pd.read_csv('solar_data/MAR_B_2018.csv')\n",
    "ma = pd.read_csv('solar_data/APR_B_2018.csv')\n",
    "my = pd.read_csv('solar_data/MAY_B_2018.csv')\n",
    "ju = pd.read_csv('solar_data/JUNE_B_2018.csv')\n",
    "mar2019 = pd.read_csv('solar_data/MAR_B_2019.csv')"
   ]
  },
  {
   "cell_type": "code",
   "execution_count": 86,
   "metadata": {},
   "outputs": [],
   "source": [
    "ff3 = m.T.iloc[21:55]\n",
    "ff4 = ma.T.iloc[21:55] # july data\n",
    "ff5 = my.T.iloc[21:55] # august data\n",
    "ff6 = ju.T.iloc[21:55] # september data\n",
    "ff7 = j.T.iloc[21:55] # October data\n",
    "ff8 = a.T.iloc[21:55] # november data\n",
    "ff9 = s.T.iloc[21:55] # december data\n",
    "ff10 = o.T.iloc[21:55] # january data\n",
    "ff11 = n.T.iloc[21:55] # february data\n",
    "ff12 = d.T.iloc[21:55]    # march data\n",
    "ff1 = jan.T.iloc[21:55] # january data\n",
    "ff2 = fab.T.iloc[21:55] #february\n",
    "ffx = mar2019"
   ]
  },
  {
   "cell_type": "code",
   "execution_count": 90,
   "metadata": {},
   "outputs": [],
   "source": [
    "d = pd.concat([ff3,ff4,ff5,ff6,ff7,ff8,ff9,ff10,ff11,ff12,ff1,ff2],axis=1)"
   ]
  },
  {
   "cell_type": "code",
   "execution_count": 96,
   "metadata": {},
   "outputs": [],
   "source": [
    "ff3 = d.T"
   ]
  },
  {
   "cell_type": "code",
   "execution_count": 97,
   "metadata": {},
   "outputs": [],
   "source": [
    "data = []\n",
    "for d in ff3.values:\n",
    "    for dx in d:\n",
    "        data.append(dx)"
   ]
  },
  {
   "cell_type": "code",
   "execution_count": 98,
   "metadata": {},
   "outputs": [
    {
     "data": {
      "text/plain": [
       "11798"
      ]
     },
     "execution_count": 98,
     "metadata": {},
     "output_type": "execute_result"
    }
   ],
   "source": [
    "len(data)"
   ]
  },
  {
   "cell_type": "code",
   "execution_count": null,
   "metadata": {},
   "outputs": [],
   "source": [
    "import time\n",
    "import numpy as np\n",
    "import matplotlib.pyplot as plt\n",
    "\n",
    "\n",
    "# plot results\n",
    "\n",
    "\n",
    "def plot_predictions(result_mean, prediction_steps, predicted, y_test, global_start_time):\n",
    "    try:\n",
    "        test_hours_to_plot = 2\n",
    "        t0 = 20  # time to start plot of predictions\n",
    "        skip = 15  # skip prediction plots by specified minutes\n",
    "        print('Plotting predictions...')\n",
    "        fig = plt.figure()\n",
    "        ax = fig.add_subplot(1, 1, 1)\n",
    "        ax.plot(y_test[:test_hours_to_plot * 60, 0] + result_mean, label='Raw data')  # plot actual test series\n",
    "\n",
    "        # plot predicted values from t0 to t0+prediction_steps\n",
    "        plt.plot(np.arange(t0 - 1, t0 + prediction_steps),\n",
    "                 np.insert(predicted[t0, :], 0, y_test[t0 - 1, 0]) + result_mean,\n",
    "                 color='red', label='t+{0} evolution of predictions'.format(prediction_steps))\n",
    "        for i in range(t0, test_hours_to_plot * 60, skip):\n",
    "            t0 += skip\n",
    "            if t0 + prediction_steps > test_hours_to_plot * 60:  # check plot does not exceed boundary\n",
    "                break\n",
    "            plt.plot(np.arange(t0 - 1, t0 + prediction_steps),\n",
    "                     np.insert(predicted[t0, :], 0, y_test[t0 - 1, 0]) + result_mean, color='red')\n",
    "\n",
    "        # plot predicted value of t+prediction_steps as series\n",
    "        plt.plot(predicted[:test_hours_to_plot * 60, prediction_steps - 1] + result_mean,\n",
    "                 label='t+{0} prediction series'.format(prediction_steps))\n",
    "\n",
    "        plt.legend(loc='lower left')\n",
    "        plt.ylabel('Actual Power in kilowatt')\n",
    "        plt.xlabel('Time in minutes')\n",
    "        plt.title('Predictions for first {0} minutes in test set'.format(test_hours_to_plot * 60))\n",
    "        plt.show()\n",
    "    except Exception as e:\n",
    "        print(str(e))\n",
    "    print('Duration of training (s) : ', time.time() - global_start_time)\n",
    "\n",
    "    return None"
   ]
  },
  {
   "cell_type": "code",
   "execution_count": 99,
   "metadata": {},
   "outputs": [],
   "source": [
    "def load_data1(power_consumption, sequence_length=60, prediction_steps=5, ratio_of_data=1.0):\n",
    "    max_values = 960#ratio_of_data * 2075259  # 2075259 is the total number of measurements from Dec 2006 to Nov 2010\n",
    "\n",
    "    # Load data from file\n",
    "    #with open(dataset_path) as file:\n",
    "    #    data_file = csv.reader(file, delimiter=\";\")\n",
    "    #    power_consumption = []\n",
    "    #    number_of_values = 0\n",
    "    #    for line in data_file:\n",
    "    #        try:\n",
    "    #            power_consumption.append(float(line[2]))\n",
    "    #            number_of_values += 1\n",
    "    #        except ValueError:\n",
    "    #            pass\n",
    "    #        if number_of_values >= max_values:  # limit data to be considered by model according to max_values\n",
    "    #            break\n",
    "\n",
    "    print(\"Total Number of Points in the Dataset:\",len(power_consumption))\n",
    "    print('Loaded data from csv.')\n",
    "    windowed_data = []\n",
    "    # Format data into rolling window sequences\n",
    "    for index in range(len(power_consumption) - sequence_length):  # for e.g: index=0 => 123, index=1 => 234 etc.\n",
    "        windowed_data.append(power_consumption[index: index + sequence_length])\n",
    "    windowed_data = np.array(windowed_data)  # shape (number of samples, sequence length)\n",
    "\n",
    "    # Center data\n",
    "    data_mean = windowed_data.mean()\n",
    "    windowed_data -= data_mean\n",
    "    print('Center data so mean is zero (subtract each data point by mean of value: ', data_mean, ')')\n",
    "    print('Data  : ', windowed_data.shape)\n",
    "\n",
    "    # Split data into training and testing sets\n",
    "    train_set_ratio = 0.9\n",
    "    row = int(round(train_set_ratio * windowed_data.shape[0]))\n",
    "    train = windowed_data[:row, :]\n",
    "    x_train = train[:, :-prediction_steps]  # remove last prediction_steps from train set\n",
    "    y_train = train[:, -prediction_steps:]  # take last prediction_steps from train set\n",
    "    x_test = windowed_data[row:, :-prediction_steps]\n",
    "    y_test = windowed_data[row:, -prediction_steps:]  # take last prediction_steps from test set\n",
    "\n",
    "    x_train = np.reshape(x_train, (x_train.shape[0], x_train.shape[1], 1))\n",
    "    x_test = np.reshape(x_test, (x_test.shape[0], x_test.shape[1], 1))\n",
    "\n",
    "    return [x_train, y_train, x_test, y_test, data_mean]"
   ]
  },
  {
   "cell_type": "code",
   "execution_count": 100,
   "metadata": {},
   "outputs": [
    {
     "name": "stdout",
     "output_type": "stream",
     "text": [
      "Total Number of Points in the Dataset: 11798\n",
      "Loaded data from csv.\n",
      "Center data so mean is zero (subtract each data point by mean of value:  5.892779190702409 )\n",
      "Data  :  (11788, 10)\n"
     ]
    }
   ],
   "source": [
    "x_train, y_train, x_test, y_test, result_mean = load_data1(data,10,5,1)"
   ]
  },
  {
   "cell_type": "code",
   "execution_count": 112,
   "metadata": {},
   "outputs": [],
   "source": [
    "import time\n",
    "from keras.layers.recurrent import LSTM\n",
    "from keras.layers.core import Activation, Dense, Dropout\n",
    "from keras.models import Sequential, load_model\n",
    "from data import load_data\n",
    "from numpy.random import seed\n",
    "seed(1234)  # seed random numbers for Keras\n",
    "from tensorflow import set_random_seed\n",
    "set_random_seed(2)  # seed random numbers for Tensorflow backend\n",
    "from plot import plot_predictions\n",
    "\n",
    "\n",
    "def build_model(prediction_steps):\n",
    "    model = Sequential()\n",
    "    layers = [1, 75, 100, prediction_steps]\n",
    "    model.add(LSTM(layers[1], input_shape=(None, layers[0]), return_sequences=True))  # add first layer\n",
    "    model.add(Dropout(0.2))  # add dropout for first layer\n",
    "    model.add(LSTM(layers[2], return_sequences=False))  # add second layer\n",
    "    model.add(Dropout(0.2))  # add dropout for second layer\n",
    "    model.add(Dense(layers[3]))  # add output layer\n",
    "    model.add(Activation('linear'))  # output layer with linear activation\n",
    "    start = time.time()\n",
    "    model.compile(loss=\"mse\", optimizer=\"rmsprop\")\n",
    "    print('Compilation Time : ', time.time() - start)\n",
    "    return model\n",
    "\n",
    "\n",
    "def run_lstm1(model, sequence_length, prediction_steps):\n",
    "    global_start_time = time.time()\n",
    "    epochs = 1\n",
    "    ratio_of_data = 1  # ratio of data to use from 2+ million data points\n",
    "    #path_to_dataset = 'data/household_power_consumption.txt'\n",
    "\n",
    "    #if data is not None:\n",
    "    print('Loading data... ')\n",
    "    x_train, y_train, x_test, y_test, result_mean = load_data1(data,sequence_length,prediction_steps, ratio_of_data)\n",
    "    #else:\n",
    "    #    x_train, y_train, x_test, y_test = data\n",
    "\n",
    "    print('\\nData Loaded. Compiling...\\n')\n",
    "\n",
    "    if model is None:\n",
    "        model = build_model(prediction_steps)\n",
    "        try:\n",
    "            model.fit(x_train, y_train, batch_size=128, epochs=epochs, validation_split=0.05)\n",
    "            predicted = model.predict(x_test)\n",
    "            # predicted = np.reshape(predicted, (predicted.size,))\n",
    "            model.save('LSTM_power_consumption_model.h5')  # save LSTM model\n",
    "        except KeyboardInterrupt:  # save model if training interrupted by user\n",
    "            print('Duration of training (s) : ', time.time() - global_start_time)\n",
    "            model.save('LSTM_power_consumption_model.h5')\n",
    "            return model, y_test, 0\n",
    "    else:  # previously trained mode is given\n",
    "        print('Loading model...')\n",
    "        predicted = model.predict(x_test)\n",
    "    plot_predictions(result_mean, prediction_steps, predicted, y_test, global_start_time)\n",
    "\n",
    "    return model"
   ]
  },
  {
   "cell_type": "code",
   "execution_count": 125,
   "metadata": {},
   "outputs": [
    {
     "name": "stdout",
     "output_type": "stream",
     "text": [
      "Loading data... \n",
      "Total Number of Points in the Dataset: 11798\n",
      "Loaded data from csv.\n",
      "Center data so mean is zero (subtract each data point by mean of value:  5.892779190702409 )\n",
      "Data  :  (11788, 10)\n",
      "\n",
      "Data Loaded. Compiling...\n",
      "\n",
      "Compilation Time :  0.018949270248413086\n",
      "Train on 10078 samples, validate on 531 samples\n",
      "Epoch 1/1\n",
      "10078/10078 [==============================] - 3s 291us/step - loss: 6.6257 - val_loss: 2.0651\n",
      "Plotting predictions...\n"
     ]
    },
    {
     "data": {
      "image/png": "[encoded data removed]",
      "text/plain": [
       "<Figure size 432x288 with 1 Axes>"
      ]
     },
     "metadata": {
      "needs_background": "light"
     },
     "output_type": "display_data"
    },
    {
     "name": "stdout",
     "output_type": "stream",
     "text": [
      "Duration of training (s) :  8.335840702056885\n"
     ]
    }
   ],
   "source": [
    "from keras.models import load_model\n",
    "from lstm import run_lstm\n",
    "\n",
    "if __name__ == '__main__':\n",
    "    loading_model = False\n",
    "    #if loading_model:\n",
    "    #    model = load_model('LSTM_power_consumption_model.h5')\n",
    "    #else:\n",
    "    model = None\n",
    "    sequence_length = 10  # number of past minutes of data for model to consider\n",
    "    prediction_steps = 5  # number of future minutes of data for model to predict\n",
    "    model = run_lstm1(model, sequence_length, prediction_steps)\n"
   ]
  },
  {
   "cell_type": "code",
   "execution_count": null,
   "metadata": {},
   "outputs": [],
   "source": []
  }
 ],
 "metadata": {
  "kernelspec": {
   "display_name": "Python 3",
   "language": "python",
   "name": "python3"
  },
  "language_info": {
   "codemirror_mode": {
    "name": "ipython",
    "version": 3
   },
   "file_extension": ".py",
   "mimetype": "text/x-python",
   "name": "python",
   "nbconvert_exporter": "python",
   "pygments_lexer": "ipython3",
   "version": "3.6.1"
  }
 },
 "nbformat": 4,
 "nbformat_minor": 2
}
